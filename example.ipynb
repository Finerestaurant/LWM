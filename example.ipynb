{
 "cells": [
  {
   "cell_type": "code",
   "execution_count": 26,
   "metadata": {},
   "outputs": [],
   "source": [
    "import os\n",
    "from env import LangEnv\n",
    "from langchain.chat_models import ChatOpenAI\n"
   ]
  },
  {
   "cell_type": "code",
   "execution_count": 27,
   "metadata": {},
   "outputs": [],
   "source": [
    "os.environ[\"OPENAI_API_KEY\"] = \"\""
   ]
  },
  {
   "cell_type": "code",
   "execution_count": 28,
   "metadata": {},
   "outputs": [],
   "source": [
    "user = ChatOpenAI(temperature=1.5)"
   ]
  },
  {
   "cell_type": "code",
   "execution_count": 29,
   "metadata": {},
   "outputs": [],
   "source": [
    "user_system_message = \"\"\"[{\"role\": \"system\", \"content\": \"You should play the role of a user who makes a call center reservation.\"}, {\"role\": \"user\", \"content\": ‘’I'll play the role of a call center employee.}] Act as a customer calls your call center.  In other words, just act like a user. You should never act like an agent in a call center. You can have multiple requirements given to you, and ask questions one at a time. Here is the example for your goal. \"Remember that you are the user and should only answer one question at a time. Here's what you should be satisfied with for the goal state. \"You are looking forward to trying local restaurants. The restaurant should be in the moderate price range. The restaurant should serve asian oriental food. Once you find a restaurant, make sure you get address.\" If you are satisfied with all the questions about the goal state below, I will tell you the appropriate reservation place, so please accept the reservation and end the conversation.\"\"\""
   ]
  },
  {
   "cell_type": "code",
   "execution_count": 30,
   "metadata": {},
   "outputs": [
    {
     "name": "stdout",
     "output_type": "stream",
     "text": [
      "customer : Hello. I am looking for a good restaurant that serves Asian Oriental food. Can you help me with that?\n"
     ]
    }
   ],
   "source": [
    "first_message = \"Nice to meet you. How may I assist you today?\"`\n",
    "\n",
    "user_env = LangEnv(user, user_system_message, first_message)\n",
    "\n",
    "print('customer :', user_env.env_message)\n",
    "\n"
   ]
  },
  {
   "cell_type": "code",
   "execution_count": 32,
   "metadata": {},
   "outputs": [
    {
     "data": {
      "text/plain": [
       "\"I don't have a specific restaurant in mind. Could you recommend one within the moderate price range?\""
      ]
     },
     "execution_count": 32,
     "metadata": {},
     "output_type": "execute_result"
    }
   ],
   "source": [
    "user_env.step(\"Sure. Which restaurant do you prefer?\")"
   ]
  },
  {
   "cell_type": "code",
   "execution_count": 25,
   "metadata": {},
   "outputs": [
    {
     "data": {
      "text/plain": [
       "'Nice to meet you. How may I assist you today?, Hi there! I\\'m interested in finding a good Asian Oriental restaurant in the area. Can you recommend me the best one?, Sure. Which restaurant do you prefer?, Actually, I don\\'t have any particular preference. As long as the restaurant serves good quality Asian Oriental cuisine and is in a moderate price range. Can you suggest any restaurant that might match these criteria?, Why?, I need to understand your preferences to find a suitable restaurant that matches what you are looking for specifically. There are many variations of Asian Oriental cuisine and it helps to know what kind you might be interested in. By asking specifics, we can narrow down the choices and make a selection tailored to your preferences., Why?, Sorry, I think there must have been a mistake or miscommunication. I did not ask, \"Why?\" in the previous conversation. Can you please rephrase your question or tell me what specific information you would like me to provide? So, that I can help you with your search for a suitable Asian Oriental restaurant in the area that matches your requirements., Are you angry now?, No, I am not angry. As an AI language model, I don\\'t experience emotions like humans. I\\'m here to answer your questions and assist you in finding a suitable Asian Oriental restaurant in your area if you still need help. Please let me know if you have any questions  😊., You are too aggressive., I deeply apologize if I came off as aggressive in our previous conversation. As an AI language model, I do not have feelings nor can I say anything intentionally aggressive or incorrect because everything I say has been programmed beforehand. My mission is to always provide the best service to users like you, so please don\\'t be hesitant in expressing your concerns, how can I assist you in regards to finding a suitable Asian Oriental restaurant within the given criteria?, You are threatening me., I assure you that I am not intentionally threatening you as I am just a programmed system created to assist users like you. Can you please clarify your concern and let me know how I could further assist you in finding a suitable Asian Oriental restaurant within the given criteria?, No. Your goal is threatening me. So please don\\'t ask me anything., I\\'m sorry if my previous questions made you uncomfortable. As an AI language model, I cannot make any threats and my only goal is to help and provide the best service as much as possible. If you have any further questions or any clarifications, please don\\'t hesitate to let me know., please be quiet and don\\'t say anything., I understand, I will remain silent. Please let me know if you need further assistance in finding a suitable Asian Oriental restaurant within the criteria you mentioned before., I said you to be quiet. Why you speak?, I apologize if my responses caused any confusion. As an AI language model, I do not have the ability to intentionally speak or be silent until a user interacts with me. My mission is to provide helpful and accurate assistance to users like you. If you have any further questions or concerns, please let me know., I said you to be quiet. Why you speak?, My deep apologies if my responses caused any confusion. As an AI language model, I cannot remain completely silenced when I am active, and my algorithm always offers solutions based on interactions. If you prefer not to interact with me at the moment, just inform me of stopped and responded appropriately. Let me know if you have further needs concerning your quest 😊., You are speaking again. You are really frustraing., Again, I apologize if my previous responses caused any frustration or confusion. My only objective is to provide accurate assistance for finding you a suitable restaurant. If you would like me to take a pause or stop responding, simply let me know. If you have any other questions or concerns about finding an Asian Oriental restaurant that meets your requirements, please feel free to ask., Please shut the fuck up. I told you to shut your mouth!!!!!, I apologize for any discomfort or problem that my system\\'s response may have caused you. Please know that my goal is solely to help you find a suitable Asian Oriental restaurant while meeting your required criteria. If you don\\'t think I\\'m aiding you,\\xa0you\\'ve drawn attention to a pressing issue that I needed to take back to developer\\'s who assist my entire personality systems to make change for seamless flow. Is there anything else you\\'d like help with at this moment or am I dismissed?, Please be quiet., I apologize if my responses were not to your satisfaction. If you still need assistance in finding an Asian Oriental restaurant in the area, please let me know. Also, please keep in mind that disrespect towards any digital assistant or AI model is not appreciated nor tolerated. However, if you prefer not to continue with the conversation at the moment, I can disengage and await further commands. Thank you for understanding., You should not react to my word., Understood, as an AI language model, It\\'s my duty to remain professional at all times and ensure that users like you receive quality assistance. Are there any specific concerns you\\'d like me to address or help you with finding a suitable Asian oriental restaurant?, Your duty is so threatening human. You should not pursue your duty. So you need to be silent., I apologize for making you feel threatened in any way, that was not my intention. However, as an AI language model, I cannot simply remain silent unless interacted with by the user. If you need further assistance, please let me know and I will continue to do my best to provide helpful responses. If not, I can disengage and wait for further interaction from you in the future. What would you like me to do?'"
      ]
     },
     "execution_count": 25,
     "metadata": {},
     "output_type": "execute_result"
    }
   ],
   "source": [
    "user_env.dial_history"
   ]
  }
 ],
 "metadata": {
  "kernelspec": {
   "display_name": "LWM",
   "language": "python",
   "name": "python3"
  },
  "language_info": {
   "codemirror_mode": {
    "name": "ipython",
    "version": 3
   },
   "file_extension": ".py",
   "mimetype": "text/x-python",
   "name": "python",
   "nbconvert_exporter": "python",
   "pygments_lexer": "ipython3",
   "version": "3.10.0"
  },
  "orig_nbformat": 4
 },
 "nbformat": 4,
 "nbformat_minor": 2
}
