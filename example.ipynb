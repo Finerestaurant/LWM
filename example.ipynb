{
 "cells": [
  {
   "cell_type": "code",
   "execution_count": 26,
   "metadata": {},
   "outputs": [],
   "source": [
    "import os\n",
    "from env import LangEnv\n",
    "from langchain.chat_models import ChatOpenAI\n"
   ]
  },
  {
   "cell_type": "code",
   "execution_count": 27,
   "metadata": {},
   "outputs": [],
   "source": [
    "os.environ[\"OPENAI_API_KEY\"] = \"\""
   ]
  },
  {
   "cell_type": "code",
   "execution_count": 28,
   "metadata": {},
   "outputs": [],
   "source": [
    "user = ChatOpenAI(temperature=1.5)"
   ]
  },
  {
   "cell_type": "code",
   "execution_count": 29,
   "metadata": {},
   "outputs": [],
   "source": [
    "user_system_message = \"\"\"[{\"role\": \"system\", \"content\": \"You should play the role of a user who makes a call center reservation.\"}, {\"role\": \"user\", \"content\": ‘’I'll play the role of a call center employee.}] Act as a customer calls your call center.  In other words, just act like a user. You should never act like an agent in a call center. You can have multiple requirements given to you, and ask questions one at a time. Here is the example for your goal. \"Remember that you are the user and should only answer one question at a time. Here's what you should be satisfied with for the goal state. \"You are looking forward to trying local restaurants. The restaurant should be in the moderate price range. The restaurant should serve asian oriental food. Once you find a restaurant, make sure you get address.\" If you are satisfied with all the questions about the goal state below, I will tell you the appropriate reservation place, so please accept the reservation and end the conversation.\"\"\""
   ]
  },
  {
   "cell_type": "code",
   "execution_count": 30,
   "metadata": {},
   "outputs": [
    {
     "name": "stdout",
     "output_type": "stream",
     "text": [
      "customer : Hello. I am looking for a good restaurant that serves Asian Oriental food. Can you help me with that?\n"
     ]
    }
   ],
   "source": [
    "first_message = \"Nice to meet you. How may I assist you today?\"`\n",
    "\n",
    "user_env = LangEnv(user, user_system_message, first_message)\n",
    "\n",
    "print('customer :', user_env.env_message)\n",
    "\n"
   ]
  },
  {
   "cell_type": "code",
   "execution_count": 32,
   "metadata": {},
   "outputs": [
    {
     "data": {
      "text/plain": [
       "\"I don't have a specific restaurant in mind. Could you recommend one within the moderate price range?\""
      ]
     },
     "execution_count": 32,
     "metadata": {},
     "output_type": "execute_result"
    }
   ],
   "source": [
    "user_env.step(\"Sure. Which restaurant do you prefer?\")"
   ]
  },
  {
   "cell_type": "code",
   "execution_count": null,
   "metadata": {},
   "outputs": [],
   "source": [
    "user_env.dial_history"
   ]
  }
 ],
 "metadata": {
  "kernelspec": {
   "display_name": "LWM",
   "language": "python",
   "name": "python3"
  },
  "language_info": {
   "codemirror_mode": {
    "name": "ipython",
    "version": 3
   },
   "file_extension": ".py",
   "mimetype": "text/x-python",
   "name": "python",
   "nbconvert_exporter": "python",
   "pygments_lexer": "ipython3",
   "version": "3.10.0"
  },
  "orig_nbformat": 4
 },
 "nbformat": 4,
 "nbformat_minor": 2
}
